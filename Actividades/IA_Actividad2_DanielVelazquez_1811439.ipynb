{
  "nbformat": 4,
  "nbformat_minor": 0,
  "metadata": {
    "colab": {
      "name": "IA_Actividad2_DanielVelazquez_1811439.ipynb",
      "provenance": [],
      "collapsed_sections": [],
      "toc_visible": true,
      "authorship_tag": "ABX9TyMHPMjamJP7eyk2elVn29mI",
      "include_colab_link": true
    },
    "kernelspec": {
      "name": "python3",
      "display_name": "Python 3"
    },
    "language_info": {
      "name": "python"
    }
  },
  "cells": [
    {
      "cell_type": "markdown",
      "metadata": {
        "id": "view-in-github",
        "colab_type": "text"
      },
      "source": [
        "<a href=\"https://colab.research.google.com/github/DanielVezz/Inteligencia-Artificial/blob/main/IA_Actividad2_DanielVelazquez_1811439.ipynb\" target=\"_parent\"><img src=\"https://colab.research.google.com/assets/colab-badge.svg\" alt=\"Open In Colab\"/></a>"
      ]
    },
    {
      "cell_type": "markdown",
      "metadata": {
        "id": "9XFDTSvSiH_Z"
      },
      "source": [
        "# **Actividad 2. Ejercicios Introducción Python**"
      ]
    },
    {
      "cell_type": "markdown",
      "metadata": {
        "id": "AJdVb8JDhhVu"
      },
      "source": [
        "Daniel E. Velázquez V."
      ]
    },
    {
      "cell_type": "markdown",
      "metadata": {
        "id": "AbSPsymkh0rE"
      },
      "source": [
        "1811439"
      ]
    },
    {
      "cell_type": "markdown",
      "metadata": {
        "id": "zNPo_Tfqh29t"
      },
      "source": [
        "Horario: Jueves N4"
      ]
    },
    {
      "cell_type": "markdown",
      "metadata": {
        "id": "SJK0qJNb4F0p"
      },
      "source": [
        "# *Ejercicio 1*"
      ]
    },
    {
      "cell_type": "markdown",
      "metadata": {
        "id": "-dyBXbAu5bTn"
      },
      "source": [
        "Se pedirá el nombre, edad, frase favorita y autor de la misma. Posteriormente se imprimirá todo unido en forma de presentación"
      ]
    },
    {
      "cell_type": "code",
      "metadata": {
        "id": "CeaIpExB0kuT",
        "colab": {
          "base_uri": "https://localhost:8080/"
        },
        "outputId": "e6a4cafd-6353-4054-8bb4-fe767f374dcd"
      },
      "source": [
        "name = input(\"Escriba su nombre: \")"
      ],
      "execution_count": null,
      "outputs": [
        {
          "name": "stdout",
          "output_type": "stream",
          "text": [
            "Escriba su nombre: Daniel \n"
          ]
        }
      ]
    },
    {
      "cell_type": "code",
      "metadata": {
        "id": "hDIrMwrm0rXa",
        "colab": {
          "base_uri": "https://localhost:8080/"
        },
        "outputId": "4c5f9b0a-2a98-443a-b500-ea340d8e407f"
      },
      "source": [
        "edad = input(\"Escriba su edad en números: \")"
      ],
      "execution_count": null,
      "outputs": [
        {
          "name": "stdout",
          "output_type": "stream",
          "text": [
            "Escriba su edad en números: 20\n"
          ]
        }
      ]
    },
    {
      "cell_type": "code",
      "metadata": {
        "id": "cEr_1Zge093U",
        "colab": {
          "base_uri": "https://localhost:8080/"
        },
        "outputId": "276c18ce-dd48-429e-945d-7d8ee36c1972"
      },
      "source": [
        "fav = input(\"Escriba su frase favorita: \")"
      ],
      "execution_count": null,
      "outputs": [
        {
          "name": "stdout",
          "output_type": "stream",
          "text": [
            "Escriba su frase favorita: GG ez bro\n"
          ]
        }
      ]
    },
    {
      "cell_type": "code",
      "metadata": {
        "id": "T7JwbQg71E3j",
        "colab": {
          "base_uri": "https://localhost:8080/"
        },
        "outputId": "0aeafce9-eddd-4800-9b9c-84d57fb8c970"
      },
      "source": [
        "autor = input(\"Autor de la frase: \")"
      ],
      "execution_count": null,
      "outputs": [
        {
          "name": "stdout",
          "output_type": "stream",
          "text": [
            "Autor de la frase: unknown gamer\n"
          ]
        }
      ]
    },
    {
      "cell_type": "code",
      "metadata": {
        "id": "B3FGG5Dh1MIC",
        "colab": {
          "base_uri": "https://localhost:8080/"
        },
        "outputId": "a148b0d5-4659-4131-88e1-acd9bde7731b"
      },
      "source": [
        "print(f\"Mi nombre es {name}, tengo {edad} años. \\nMi frase favorita es '{fav}', del autor {autor} \")"
      ],
      "execution_count": null,
      "outputs": [
        {
          "output_type": "stream",
          "name": "stdout",
          "text": [
            "Mi nombre es Daniel , tengo 20 años. \n",
            "Mi frase favorita es 'GG ez bro', del autor unknown gamer \n"
          ]
        }
      ]
    },
    {
      "cell_type": "markdown",
      "metadata": {
        "id": "97suXHnk4eMX"
      },
      "source": [
        "# *Ejercicio 2*"
      ]
    },
    {
      "cell_type": "markdown",
      "metadata": {
        "id": "Z3PZFTtWNA91"
      },
      "source": [
        "Se pedirán un par de números enteros y un par de números flotantes para posteriormente realizar suma, resta, multiplicación y divisón entre los dos números de ambos pares. "
      ]
    },
    {
      "cell_type": "code",
      "metadata": {
        "id": "x38TWHPRN8B4",
        "colab": {
          "base_uri": "https://localhost:8080/"
        },
        "outputId": "ce3f65d2-b1f6-4c6a-808d-fdea19345932"
      },
      "source": [
        "#Valores de números enteros\n",
        "e1 = int(input(\"Ingrese primer número entero: \"))\n",
        "e2 = int(input(\"Ingrese segundo número entero: \"))"
      ],
      "execution_count": null,
      "outputs": [
        {
          "name": "stdout",
          "output_type": "stream",
          "text": [
            "Ingrese primer número entero: 2\n",
            "Ingrese segundo número entero: 8\n"
          ]
        }
      ]
    },
    {
      "cell_type": "code",
      "metadata": {
        "id": "YfQ-zdWyOdOV",
        "colab": {
          "base_uri": "https://localhost:8080/"
        },
        "outputId": "a30af434-3815-4b03-a084-42c9596ff85a"
      },
      "source": [
        "#Valores de números flotantes\n",
        "f1 = float(input(\"Ingrese primer número flotante: \"))\n",
        "f2 = float(input(\"Ingrese segundo número flotante: \"))"
      ],
      "execution_count": null,
      "outputs": [
        {
          "name": "stdout",
          "output_type": "stream",
          "text": [
            "Ingrese primer número flotante: 2.7\n",
            "Ingrese segundo número flotante: 3.2\n"
          ]
        }
      ]
    },
    {
      "cell_type": "code",
      "metadata": {
        "id": "-uTbqu2AOqRf",
        "colab": {
          "base_uri": "https://localhost:8080/"
        },
        "outputId": "9e4ba034-ff64-4b4d-b649-3c0aee39178e"
      },
      "source": [
        "#Sumas\n",
        "sume = e1 + e2 \n",
        "sumf = f1 + f2\n",
        "print(f\"El resultado de {e1} + {e2} = {sume}\")\n",
        "print(f\"El resultado de {f1} + {f2} = {sumf}\")"
      ],
      "execution_count": null,
      "outputs": [
        {
          "output_type": "stream",
          "name": "stdout",
          "text": [
            "El resultado de 2 + 8 = 10\n",
            "El resultado de 2.7 + 3.2 = 5.9\n"
          ]
        }
      ]
    },
    {
      "cell_type": "code",
      "metadata": {
        "id": "xqvj8-wtPZv9",
        "colab": {
          "base_uri": "https://localhost:8080/"
        },
        "outputId": "3c9c6d41-82ce-46e5-a23c-4f06a93fdaab"
      },
      "source": [
        "#Restas\n",
        "rese = e1 - e2 \n",
        "resf = f1 - f2\n",
        "print(f\"El resultado de {e1} - {e2} = {rese}\")\n",
        "print(f\"El resultado de {f1} - {f2} = {resf}\")"
      ],
      "execution_count": null,
      "outputs": [
        {
          "output_type": "stream",
          "name": "stdout",
          "text": [
            "El resultado de 2 - 8 = -6\n",
            "El resultado de 2.7 - 3.2 = -0.5\n"
          ]
        }
      ]
    },
    {
      "cell_type": "code",
      "metadata": {
        "id": "5AJK8-k7Pmui",
        "colab": {
          "base_uri": "https://localhost:8080/"
        },
        "outputId": "4c6216ad-c92a-4598-baaf-557cb1c23fe0"
      },
      "source": [
        "#Multiplicaciones\n",
        "multe = e1 * e2 \n",
        "multf = f1 * f2\n",
        "print(f\"El resultado de {e1} * {e2} = {multe}\")\n",
        "print(f\"El resultado de {f1} * {f2} = {multf}\")"
      ],
      "execution_count": null,
      "outputs": [
        {
          "output_type": "stream",
          "name": "stdout",
          "text": [
            "El resultado de 2 * 8 = 16\n",
            "El resultado de 2.7 * 3.2 = 8.64\n"
          ]
        }
      ]
    },
    {
      "cell_type": "code",
      "metadata": {
        "id": "BV2e_ax8Pv08",
        "colab": {
          "base_uri": "https://localhost:8080/"
        },
        "outputId": "7f2e233e-bb29-4c10-fd81-53530c86d761"
      },
      "source": [
        "#Divisiones\n",
        "dive = e1 / e2 \n",
        "divf = f1 / f2\n",
        "print(f\"El resultado de {e1} / {e2} = {dive}\")\n",
        "print(f\"El resultado de {f1} / {f2} = {divf}\")"
      ],
      "execution_count": null,
      "outputs": [
        {
          "output_type": "stream",
          "name": "stdout",
          "text": [
            "El resultado de 2 / 8 = 0.25\n",
            "El resultado de 2.7 / 3.2 = 0.84375\n"
          ]
        }
      ]
    },
    {
      "cell_type": "markdown",
      "metadata": {
        "id": "AcdJpcyhSVFb"
      },
      "source": [
        "# *Ejercicio 3*"
      ]
    },
    {
      "cell_type": "markdown",
      "metadata": {
        "id": "Kt6wQGH5SexV"
      },
      "source": [
        "Se crearan dos expresiones lógicas con 'and', dos con 'or' y dos con 'not'."
      ]
    },
    {
      "cell_type": "code",
      "metadata": {
        "colab": {
          "base_uri": "https://localhost:8080/"
        },
        "id": "5nek62rBScXv",
        "outputId": "e3c32ded-8777-4e1d-d6ef-bffa0b3931fc"
      },
      "source": [
        "#Se ingresan los valores\n",
        "a = input(\"Ingrese primer número: \")\n",
        "b = input(\"Ingrese segundo número: \")\n",
        "c = input(\"Ingrese tercer número: \")\n",
        "print()"
      ],
      "execution_count": null,
      "outputs": [
        {
          "output_type": "stream",
          "name": "stdout",
          "text": [
            "Ingrese primer número: 2\n",
            "Ingrese segundo número: 4\n",
            "Ingrese tercer número: 6\n",
            "\n"
          ]
        }
      ]
    },
    {
      "cell_type": "code",
      "metadata": {
        "colab": {
          "base_uri": "https://localhost:8080/"
        },
        "id": "5Z1D60IKc7Fl",
        "outputId": "fcbd53a2-ba31-4990-fa98-80f71cf27378"
      },
      "source": [
        "#Expresiones and\n",
        "print(f\"Los tres números son iguales: {a == b and b == c}\")\n",
        "print(f\"Los números están ordenados de menor a mayor: {a <= b and b <= c}\")\n",
        "print()"
      ],
      "execution_count": null,
      "outputs": [
        {
          "output_type": "stream",
          "name": "stdout",
          "text": [
            "Los tres números son iguales: False\n",
            "Los números están ordenados de menor a mayor: True\n",
            "\n"
          ]
        }
      ]
    },
    {
      "cell_type": "code",
      "metadata": {
        "colab": {
          "base_uri": "https://localhost:8080/"
        },
        "id": "SB8pecBAdW1S",
        "outputId": "849c7d23-4d3a-45c4-bdfc-85b078465192"
      },
      "source": [
        "#Expresiones or\n",
        "print(f\"El primer número es el mayor: {a > b or a > c}\")\n",
        "print(f\"El último número es el menor: {c < a or c < b}\")\n",
        "print()"
      ],
      "execution_count": null,
      "outputs": [
        {
          "output_type": "stream",
          "name": "stdout",
          "text": [
            "El primer número es el mayor: False\n",
            "El último número es el menor: False\n",
            "\n"
          ]
        }
      ]
    },
    {
      "cell_type": "code",
      "metadata": {
        "colab": {
          "base_uri": "https://localhost:8080/"
        },
        "id": "xadtJ_8Sd3CM",
        "outputId": "d2a1baee-9bf7-4c8e-c22d-4060214cfbeb"
      },
      "source": [
        "#Expresiones not\n",
        "print(f\"Los números están ordenados de menor a mayor: {not a < b and not b < c}\")\n",
        "print(f\"Los números no se repiten: {not a == b and not b == c and not a == c}\" )"
      ],
      "execution_count": null,
      "outputs": [
        {
          "output_type": "stream",
          "name": "stdout",
          "text": [
            "Los números están ordenados de menor a mayor: False\n",
            "Los números no se repiten: True\n"
          ]
        }
      ]
    }
  ]
}
